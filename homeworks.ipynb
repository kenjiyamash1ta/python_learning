{
  "nbformat": 4,
  "nbformat_minor": 0,
  "metadata": {
    "colab": {
      "provenance": [],
      "authorship_tag": "ABX9TyM3cPbi46UaZYafEJYCg07u",
      "include_colab_link": true
    },
    "kernelspec": {
      "name": "python3",
      "display_name": "Python 3"
    },
    "language_info": {
      "name": "python"
    }
  },
  "cells": [
    {
      "cell_type": "markdown",
      "metadata": {
        "id": "view-in-github",
        "colab_type": "text"
      },
      "source": [
        "<a href=\"https://colab.research.google.com/github/kenjiyamash1ta/python_learning/blob/main/homeworks.ipynb\" target=\"_parent\"><img src=\"https://colab.research.google.com/assets/colab-badge.svg\" alt=\"Open In Colab\"/></a>"
      ]
    },
    {
      "cell_type": "code",
      "source": [
        "import random\n",
        "import datetime\n",
        "\n",
        "while True:\n",
        "\n",
        " print(\"1 - угадай число на кубике\")\n",
        " print(\"2 - счетчик даты рождения\")\n",
        " task = input(\"Введите номер задания: \")\n",
        "\n",
        " if task == \"1\" :\n",
        "  print(\"Эта программа бросает кубик, ваша задача угадать выпавшее число\")\n",
        "  cube = random.randint(1, 6)\n",
        "  guess = int(input(\"Введите предположение: \"))\n",
        "\n",
        "  if(cube == guess):\n",
        "   print(\"Вы угадали! Число на кубе было: \", cube)\n",
        "   break\n",
        "\n",
        "  elif(cube != guess):\n",
        "   print(\"К сожалению вы не угадали( Число на кубе было: \", cube)\n",
        "\n",
        "\n",
        "\n",
        " elif task == \"2\" :\n",
        "    today_date = datetime.date.today()\n",
        "    birthday_date = input(\"Введите дату рождения (dd/mm/yyyy)\\n\")\n",
        "    bd = datetime.datetime.strptime(birthday_date, '%d/%m/%Y').date()\n",
        "    age = today_date - bd\n",
        "\n",
        "    print(\"Твой возраст: \", age)\n",
        "    break\n",
        "\n",
        " else:\n",
        "   print(\"Некоректный ввод, при выборе задания\")"
      ],
      "metadata": {
        "id": "BcScom1i-BkF"
      },
      "execution_count": null,
      "outputs": []
    },
    {
      "cell_type": "markdown",
      "source": [
        "дз 13.10\n"
      ],
      "metadata": {
        "id": "b2PS0_nJbWof"
      }
    },
    {
      "cell_type": "code",
      "source": [
        "s = input()\n",
        "s = int(s.split(' ')[0]) + int(s.split(' ')[1])\n",
        "print(s)"
      ],
      "metadata": {
        "colab": {
          "base_uri": "https://localhost:8080/"
        },
        "id": "kHq8N1GZbcA0",
        "outputId": "03d6d194-8f9a-4e6a-c1a0-41984cab806c"
      },
      "execution_count": null,
      "outputs": [
        {
          "output_type": "stream",
          "name": "stdout",
          "text": [
            "12 21\n",
            "33\n"
          ]
        }
      ]
    },
    {
      "cell_type": "markdown",
      "source": [
        "дз 15.10"
      ],
      "metadata": {
        "id": "p99ya2q_Qg7t"
      }
    },
    {
      "cell_type": "markdown",
      "source": [
        "1. https://acmp.ru/index.asp?main=task&id_task=25"
      ],
      "metadata": {
        "id": "tHM5M-0s56JH"
      }
    },
    {
      "cell_type": "code",
      "execution_count": null,
      "metadata": {
        "colab": {
          "base_uri": "https://localhost:8080/"
        },
        "id": "sHA9sLyh2Qha",
        "outputId": "654adfd5-3155-494a-9ee7-3e1e08d69451"
      },
      "outputs": [
        {
          "output_type": "stream",
          "name": "stdout",
          "text": [
            "12\n",
            "12\n",
            "=\n"
          ]
        }
      ],
      "source": [
        "a = int(input())\n",
        "b = int(input())\n",
        "if a == b:\n",
        "  print(\"=\")\n",
        "elif a > b:\n",
        "  print(\">\")\n",
        "else:\n",
        "  print(\"<\")"
      ]
    },
    {
      "cell_type": "markdown",
      "source": [
        "2. https://acmp.ru/index.asp?main=task&id_task=903"
      ],
      "metadata": {
        "id": "SFHqHaFN5_U6"
      }
    },
    {
      "cell_type": "code",
      "source": [
        "a = int(input())\n",
        "print(a + 1)"
      ],
      "metadata": {
        "colab": {
          "base_uri": "https://localhost:8080/"
        },
        "id": "K-vqNbyR4xQh",
        "outputId": "19b04db6-6c13-4d78-8c83-97d0346d034e"
      },
      "execution_count": null,
      "outputs": [
        {
          "output_type": "stream",
          "name": "stdout",
          "text": [
            "10\n",
            "11\n"
          ]
        }
      ]
    },
    {
      "cell_type": "markdown",
      "source": [
        "3. https://acmp.ru/index.asp?main=task&id_task=942"
      ],
      "metadata": {
        "id": "KuY0u7T96IHV"
      }
    },
    {
      "cell_type": "code",
      "source": [
        "print(1)"
      ],
      "metadata": {
        "colab": {
          "base_uri": "https://localhost:8080/"
        },
        "id": "Yuu0w8tA5fPK",
        "outputId": "11170fe2-2051-419a-f1e6-346affb461b4"
      },
      "execution_count": null,
      "outputs": [
        {
          "output_type": "stream",
          "name": "stdout",
          "text": [
            "1\n"
          ]
        }
      ]
    },
    {
      "cell_type": "markdown",
      "source": [
        "дз 20.10"
      ],
      "metadata": {
        "id": "SIepd_6lQdIs"
      }
    },
    {
      "cell_type": "markdown",
      "source": [
        "1. https://acmp.ru/index.asp?main=task&id_task=766"
      ],
      "metadata": {
        "id": "Wh4RNMv9Ql8A"
      }
    },
    {
      "cell_type": "code",
      "source": [
        "InputString = input()\n",
        "SumNuts = int(InputString.split(' ')[0]) * int(InputString.split(' ')[1])\n",
        "NeedNuts = int(InputString.split(' ')[2])\n",
        "if SumNuts >= NeedNuts:\n",
        "  print(\"YES\")\n",
        "else:\n",
        "  print(\"NO\")"
      ],
      "metadata": {
        "colab": {
          "base_uri": "https://localhost:8080/"
        },
        "id": "adj5QfA7b3E5",
        "outputId": "436da937-9384-486f-e098-de3bff426f76"
      },
      "execution_count": null,
      "outputs": [
        {
          "output_type": "stream",
          "name": "stdout",
          "text": [
            "2 2 2\n",
            "YES\n"
          ]
        }
      ]
    },
    {
      "cell_type": "markdown",
      "source": [
        "2. https://acmp.ru/index.asp?main=task&id_task=195"
      ],
      "metadata": {
        "id": "2TmuFIsQdmS6"
      }
    },
    {
      "cell_type": "code",
      "source": [
        "InputString = input()\n",
        "SumSulfide = int(InputString.split(' ')[0]) * int(InputString.split(' ')[1]) * int(InputString.split(' ')[2]) * 2\n",
        "print(SumSulfide)"
      ],
      "metadata": {
        "colab": {
          "base_uri": "https://localhost:8080/"
        },
        "id": "bCnrGb7leVeX",
        "outputId": "2534438c-9db9-437b-a1b7-9e51e7255593"
      },
      "execution_count": null,
      "outputs": [
        {
          "output_type": "stream",
          "name": "stdout",
          "text": [
            "2 2 2\n",
            "16\n"
          ]
        }
      ]
    },
    {
      "cell_type": "markdown",
      "source": [
        "3. https://acmp.ru/index.asp?main=task&id_task=773"
      ],
      "metadata": {
        "id": "IiDpuBdQe8sC"
      }
    },
    {
      "cell_type": "code",
      "source": [
        "InputString = input()\n",
        "Mattress = int(InputString.split(' ')[0]) * int(InputString.split(' ')[0]) * int(InputString.split(' ')[1])\n",
        "print(Mattress)"
      ],
      "metadata": {
        "colab": {
          "base_uri": "https://localhost:8080/"
        },
        "id": "dEfKN-xumcSP",
        "outputId": "b7e6b716-d399-47c2-954b-49412d13e74b"
      },
      "execution_count": null,
      "outputs": [
        {
          "output_type": "stream",
          "name": "stdout",
          "text": [
            "12 4\n",
            "576\n"
          ]
        }
      ]
    },
    {
      "cell_type": "markdown",
      "source": [
        "дз 22.10"
      ],
      "metadata": {
        "id": "q3Ojfl3Sxv0E"
      }
    },
    {
      "cell_type": "markdown",
      "source": [
        "1. https://acmp.ru/index.asp?main=task&id_task=818"
      ],
      "metadata": {
        "id": "ZcK6tZSRxz5P"
      }
    },
    {
      "cell_type": "code",
      "source": [
        "num = input()\n",
        "sum = 1\n",
        "information = [int(x) for x in input().split()]\n",
        "for socket in information:\n",
        "  sum += socket - 1\n",
        "print(sum)"
      ],
      "metadata": {
        "colab": {
          "base_uri": "https://localhost:8080/"
        },
        "id": "eAYJr2rPx3yx",
        "outputId": "1692fd4b-dfa1-4cdc-d0a6-d237bcef9c30"
      },
      "execution_count": null,
      "outputs": [
        {
          "output_type": "stream",
          "name": "stdout",
          "text": [
            "2\n",
            "2 2\n",
            "3\n"
          ]
        }
      ]
    },
    {
      "cell_type": "markdown",
      "source": [
        "2. https://acmp.ru/index.asp?main=task&id_task=550"
      ],
      "metadata": {
        "id": "99ItkpYfx4Pn"
      }
    },
    {
      "cell_type": "code",
      "source": [
        "year = int(input())\n",
        "nulls = '0' * (4 - len(str(year))) ## нужно чтобы год выводился в формате YYYY\n",
        "if (year % 400 == 0) or (year % 4 == 0 and year % 100 != 0):\n",
        "  print('12/09/', nulls, year, sep=(''))\n",
        "else:\n",
        "  print('13/09/', nulls, year, sep=(''))"
      ],
      "metadata": {
        "colab": {
          "base_uri": "https://localhost:8080/"
        },
        "id": "BsaKn3cJx7A8",
        "outputId": "31c016aa-0c57-4579-8c6c-616a52dfca12"
      },
      "execution_count": null,
      "outputs": [
        {
          "output_type": "stream",
          "name": "stdout",
          "text": [
            "12\n",
            "12/09/0012\n"
          ]
        }
      ]
    },
    {
      "cell_type": "markdown",
      "source": [
        "3. https://acmp.ru/index.asp?main=task&id_task=272"
      ],
      "metadata": {
        "id": "QC4wV7jHx7Wn"
      }
    },
    {
      "cell_type": "code",
      "source": [
        "nums = [int(x) for x in input().split()]\n",
        "even = nums[1::2] ##четные\n",
        "odd = nums[::2] ##нечет\n",
        "print(max(even)+min(odd))\n"
      ],
      "metadata": {
        "colab": {
          "base_uri": "https://localhost:8080/"
        },
        "id": "LhncHBNtx9OM",
        "outputId": "3cc1cea9-bf09-438e-ebf7-5234e73258d0"
      },
      "execution_count": null,
      "outputs": [
        {
          "output_type": "stream",
          "name": "stdout",
          "text": [
            "1 -2 3 -4 5\n",
            "-1\n"
          ]
        }
      ]
    },
    {
      "cell_type": "markdown",
      "source": [
        "4. https://acmp.ru/index.asp?main=task&id_task=277"
      ],
      "metadata": {
        "id": "PoV4GlfhyCyL"
      }
    },
    {
      "cell_type": "code",
      "source": [
        "nums = [int(x) for x in input().split()]\n",
        "a = nums[0]\n",
        "b = nums[1]\n",
        "c = nums[2]\n",
        "## 0\n",
        "if a == 0 and b == 0 and c == 0:\n",
        "  print(\"0\", sep='', end='')\n",
        "## a\n",
        "if a != 0:\n",
        "  print(a, sep='', end='')\n",
        "## b\n",
        "if b != 0:\n",
        "  if b > 0 and a != 0:\n",
        "    print(\"+\", b, \"x\",  sep='', end='')\n",
        "  elif b == -1:\n",
        "    print(\"-x\", sep='', end='')\n",
        "  elif b == 1:\n",
        "    print(\"x\", sep='', end='')\n",
        "  else:\n",
        "    print(b, \"x\", sep='', end='')\n",
        "## c\n",
        "if c != 0:\n",
        "  if c > 0 and (a != 0 or b != 0):\n",
        "    print(\"+\", c, \"y\", sep='', end='')\n",
        "  elif c == -1:\n",
        "    print(\"-y\", sep='', end='')\n",
        "  elif c == 1:\n",
        "    print(\"y\", sep='', end='')\n",
        "  else:\n",
        "    print(c, \"y\", sep='', end='')"
      ],
      "metadata": {
        "colab": {
          "base_uri": "https://localhost:8080/"
        },
        "id": "Xmy-ENdtyHx_",
        "outputId": "99959374-16bc-4c75-95a3-7566e3ece2d3"
      },
      "execution_count": null,
      "outputs": [
        {
          "output_type": "stream",
          "name": "stdout",
          "text": [
            "0 0 -1\n",
            "-y"
          ]
        }
      ]
    },
    {
      "cell_type": "markdown",
      "source": [
        "27.10"
      ],
      "metadata": {
        "id": "rE8DZCbYsLDY"
      }
    },
    {
      "cell_type": "markdown",
      "source": [
        "1. https://acmp.ru/index.asp?main=task&id_task=667"
      ],
      "metadata": {
        "id": "df-5RgVesDqw"
      }
    },
    {
      "cell_type": "code",
      "source": [
        "N, M, K = (int(i) for i in input().split())\n",
        "# N детей и M взрослых. Каждый автобус вмещает K человек.\n",
        "buses = (N + M) / K\n",
        "if buses != int(buses):\n",
        "    buses = int(buses) + 1\n",
        "if M >= 2 and K > 2:\n",
        "  if M >= N / (K - 2) * 2:\n",
        "    print(int(buses))\n",
        "  else:\n",
        "    print(0)\n",
        "else:\n",
        "    print(0)"
      ],
      "metadata": {
        "colab": {
          "base_uri": "https://localhost:8080/"
        },
        "id": "bE01UaP1sRzm",
        "outputId": "b64384d6-4888-4f0a-e0ee-830ac8c4bc9c"
      },
      "execution_count": null,
      "outputs": [
        {
          "output_type": "stream",
          "name": "stdout",
          "text": [
            "1 1 1\n",
            "0\n"
          ]
        }
      ]
    },
    {
      "cell_type": "markdown",
      "source": [
        "2. https://acmp.ru/index.asp?main=task&id_task=579"
      ],
      "metadata": {
        "id": "_fMN8bG8yMPV"
      }
    },
    {
      "cell_type": "code",
      "source": [
        "len_nums = input()\n",
        "nums = [int(i) for i in input().split()]\n",
        "minus, plus = [i for i in nums if i < 0 ], [j for j in nums if j > 0]\n",
        "sum_minus, sum_plus = abs(sum(minus)), sum(plus)\n",
        "index_plus = [i + 1 for i in range(0, len(nums)) if nums[i] > 0]\n",
        "index_minus = [i + 1 for i in range(0, len(nums)) if nums[i] < 0]\n",
        "if sum_minus > sum_plus:\n",
        "  print(len(minus))\n",
        "  print(' '.join(str(x) for x in index_minus))\n",
        "else:\n",
        "  print(len(plus))\n",
        "  print(' '.join(str(x) for x in index_plus))"
      ],
      "metadata": {
        "colab": {
          "base_uri": "https://localhost:8080/"
        },
        "id": "3AgnVBXHyOie",
        "outputId": "38cad788-0797-4e94-da45-fc0a6a517fbc"
      },
      "execution_count": null,
      "outputs": [
        {
          "output_type": "stream",
          "name": "stdout",
          "text": [
            "5 -1 4 -1 6 -7\n",
            "3\n",
            "1 3 5\n"
          ]
        }
      ]
    },
    {
      "cell_type": "markdown",
      "source": [
        "3. https://acmp.ru/index.asp?main=task&id_task=925"
      ],
      "metadata": {
        "id": "v_Lm9UhzVENf"
      }
    },
    {
      "cell_type": "code",
      "source": [
        "task = input()\n",
        "num, high, blue_eyes, blond = (int(i) for i in input().split())\n",
        "if task == '1':\n",
        "  suitable = num - (num - high) - (num - blond) - (num - blue_eyes)\n",
        "  if suitable < 0:\n",
        "    suitable = 0\n",
        "  print(suitable)\n",
        "else:\n",
        "  suitable = min([high, blue_eyes, blond])\n",
        "  print(suitable)"
      ],
      "metadata": {
        "colab": {
          "base_uri": "https://localhost:8080/"
        },
        "id": "xZ9lp8QuVZt8",
        "outputId": "dff5ae71-5267-4baf-cdc6-8b4c58bc634f"
      },
      "execution_count": null,
      "outputs": [
        {
          "output_type": "stream",
          "name": "stdout",
          "text": [
            "1\n",
            "5 3 4 5\n",
            "2\n"
          ]
        }
      ]
    },
    {
      "cell_type": "markdown",
      "source": [
        "4. https://acmp.ru/index.asp?main=task&id_task=912"
      ],
      "metadata": {
        "id": "z2fSYCCtl5We"
      }
    },
    {
      "cell_type": "code",
      "source": [
        "num_humans = input()\n",
        "colors = [int(i) for i in input().split()]\n",
        "result = {i: colors.count(i) for i in colors}\n",
        "for k, v in result.items():\n",
        ""
      ],
      "metadata": {
        "colab": {
          "base_uri": "https://localhost:8080/"
        },
        "id": "kiuH2kzXl9ST",
        "outputId": "744c5f1b-497a-4a66-91c4-9c6e2934fa1d"
      },
      "execution_count": null,
      "outputs": [
        {
          "output_type": "stream",
          "name": "stdout",
          "text": [
            "1 2 3 1 1 2 3 3\n",
            "1 1 2 2 2 3\n",
            "{1: 2, 2: 3, 3: 1}\n"
          ]
        }
      ]
    },
    {
      "cell_type": "markdown",
      "source": [
        "02.11"
      ],
      "metadata": {
        "id": "OnM4oBzczpPX"
      }
    },
    {
      "cell_type": "markdown",
      "source": [
        "1. https://acmp.ru/index.asp?main=task&id_task=534"
      ],
      "metadata": {
        "id": "jxD5U3Agz2e2"
      }
    },
    {
      "cell_type": "code",
      "source": [
        "n = int(input())\n",
        "limit = list(map(int, input().split()))\n",
        "\n",
        "press = int(input())\n",
        "press_num = list(map(int, input().split()))\n",
        "\n",
        "for i in range(press):\n",
        "    limit[press_num[i] -1] -= 1\n",
        "\n",
        "for button in limit:\n",
        "  if button < 0:\n",
        "    print('yes')\n",
        "  else:\n",
        "    print('no')\n",
        ""
      ],
      "metadata": {
        "colab": {
          "base_uri": "https://localhost:8080/"
        },
        "id": "hcOgfVrqGvQ9",
        "outputId": "87f1ed1d-1249-4c61-fec4-3b9da60b4315"
      },
      "execution_count": null,
      "outputs": [
        {
          "name": "stdout",
          "output_type": "stream",
          "text": [
            "5\n"
          ]
        }
      ]
    },
    {
      "cell_type": "markdown",
      "source": [
        "2. https://acmp.ru/index.asp?main=task&id_task=900"
      ],
      "metadata": {
        "id": "m2hsSI7hKWcy"
      }
    },
    {
      "cell_type": "code",
      "source": [
        "mushrooms = int(input())\n",
        "petya = int(mushrooms * 65 / 120)\n",
        "vasya = int(mushrooms * 20 / 120)\n",
        "kolya = int(mushrooms * 35 / 120)\n",
        "print(petya, vasya, kolya)"
      ],
      "metadata": {
        "colab": {
          "base_uri": "https://localhost:8080/"
        },
        "id": "RHMsPe9mKb8C",
        "outputId": "623c8eab-2a38-4762-b512-c71b9fa4c1f2"
      },
      "execution_count": null,
      "outputs": [
        {
          "output_type": "stream",
          "name": "stdout",
          "text": [
            "240\n",
            "130 40 70\n"
          ]
        }
      ]
    },
    {
      "cell_type": "markdown",
      "source": [
        "3. https://acmp.ru/index.asp?main=task&id_task=416"
      ],
      "metadata": {
        "id": "JTlYfp5sPsxK"
      }
    },
    {
      "cell_type": "code",
      "source": [],
      "metadata": {
        "id": "03ooWMAwPvKe"
      },
      "execution_count": null,
      "outputs": []
    },
    {
      "cell_type": "markdown",
      "source": [
        "10.11"
      ],
      "metadata": {
        "id": "O2Hu5f3noqgw"
      }
    },
    {
      "cell_type": "markdown",
      "source": [
        "1. https://acmp.ru/index.asp?main=task&id_task=843"
      ],
      "metadata": {
        "id": "ctTi_W0Uovks"
      }
    },
    {
      "cell_type": "code",
      "source": [
        "num, math, physics, nothing = (int(i) for i in input().split())\n",
        "passed_all = nothing + physics + math - num\n",
        "passed_only_math = math - passed_all\n",
        "passed_only_physics = physics - passed_all\n",
        "print(passed_all, passed_only_math, passed_only_physics)"
      ],
      "metadata": {
        "colab": {
          "base_uri": "https://localhost:8080/"
        },
        "id": "6sdGACawowyc",
        "outputId": "9aef4114-ca7d-43d6-a450-d195a87cad13"
      },
      "execution_count": null,
      "outputs": [
        {
          "output_type": "stream",
          "name": "stdout",
          "text": [
            "10 5 5 5\n",
            "5 0 0\n"
          ]
        }
      ]
    },
    {
      "cell_type": "markdown",
      "source": [
        "2. https://acmp.ru/index.asp?main=task&id_task=694"
      ],
      "metadata": {
        "id": "bCIyYrsqrZxS"
      }
    },
    {
      "cell_type": "code",
      "source": [
        "professors = int(input())\n",
        "i = 0\n",
        "days = []\n",
        "if professors == 0:\n",
        "  print('NO')\n",
        "else:\n",
        "  while(i < professors):\n",
        "    professor_days = [int(i) for i in input().split()]\n",
        "    for x in professor_days:\n",
        "      days.append(x)\n",
        "    i += 1\n",
        "  end = days[1::2] ##1, 3, 5\n",
        "  start = days[::2] ##0, 2, 4\n",
        "  if min(end) - max(start) >= 0:\n",
        "    print('YES')\n",
        "  else:\n",
        "    print('NO')"
      ],
      "metadata": {
        "colab": {
          "base_uri": "https://localhost:8080/"
        },
        "id": "BRIyx4NUrcaf",
        "outputId": "f5d67514-5b05-462f-dcd0-030f7957edf4"
      },
      "execution_count": null,
      "outputs": [
        {
          "output_type": "stream",
          "name": "stdout",
          "text": [
            "3\n",
            "1 2\n",
            "2 3\n",
            "1 3\n",
            "NO\n"
          ]
        }
      ]
    },
    {
      "cell_type": "markdown",
      "source": [
        "3. https://acmp.ru/index.asp?main=task&id_task=947"
      ],
      "metadata": {
        "id": "vY7w3l4kysue"
      }
    },
    {
      "cell_type": "code",
      "source": [
        "length = float(input())\n",
        "cards = 0\n",
        "n = 0.\n",
        "while(n < length):\n",
        "  n += 1 / (cards + 2)\n",
        "  cards += 1\n",
        "print(cards, 'card(s)')"
      ],
      "metadata": {
        "colab": {
          "base_uri": "https://localhost:8080/"
        },
        "id": "W2KtDfxRyvVk",
        "outputId": "ff5cbb59-7708-47fd-eab8-b647d8b9251d"
      },
      "execution_count": null,
      "outputs": [
        {
          "output_type": "stream",
          "name": "stdout",
          "text": [
            "16\n",
            "13562026 card(s)\n"
          ]
        }
      ]
    },
    {
      "cell_type": "markdown",
      "source": [
        "4*. https://acmp.ru/index.asp?main=task&id_task=385"
      ],
      "metadata": {
        "id": "blLj0Q1K2Rfk"
      }
    },
    {
      "cell_type": "code",
      "source": [],
      "metadata": {
        "id": "sQjriD-I2STW"
      },
      "execution_count": null,
      "outputs": []
    },
    {
      "cell_type": "markdown",
      "source": [
        "12.11"
      ],
      "metadata": {
        "id": "bSpVAqCQc8oJ"
      }
    },
    {
      "cell_type": "markdown",
      "source": [
        "1. https://acmp.ru/index.asp?main=task&id_task=543"
      ],
      "metadata": {
        "id": "1BoDWraddDbQ"
      }
    },
    {
      "cell_type": "code",
      "source": [
        "num, weight, diff, mas = (int(i) for i in input().split())\n",
        "sum = (weight + weight * (num - 1)) / 2 * (num - 1)\n",
        "otv = (sum - mas) / diff\n",
        "if otv == 0:\n",
        "  otv = num\n",
        "print(int(otv))"
      ],
      "metadata": {
        "colab": {
          "base_uri": "https://localhost:8080/"
        },
        "id": "llalfR2zc-ch",
        "outputId": "a54d6d09-9c86-4d35-e5e6-6b5c3b9618a7"
      },
      "execution_count": null,
      "outputs": [
        {
          "output_type": "stream",
          "name": "stdout",
          "text": [
            "10 25 8 1125\n",
            "10\n"
          ]
        }
      ]
    },
    {
      "cell_type": "markdown",
      "source": [
        "2. https://acmp.ru/index.asp?main=task&id_task=461"
      ],
      "metadata": {
        "id": "qtqc6dwsdFB4"
      }
    },
    {
      "cell_type": "code",
      "source": [
        "num = int(input())\n",
        "line = [int(i) for i in input().split()]\n",
        "line.sort()\n",
        "count = 0\n",
        "for i in range(num // 2 + 1):\n",
        "    count += line[i] // 2 + 1\n",
        "print(count)"
      ],
      "metadata": {
        "colab": {
          "base_uri": "https://localhost:8080/"
        },
        "id": "4LyJKy1DdHK7",
        "outputId": "48e0f857-6869-46df-e0c6-829af88f56cc"
      },
      "execution_count": null,
      "outputs": [
        {
          "output_type": "stream",
          "name": "stdout",
          "text": [
            "3\n",
            "5 5 7\n",
            "6\n"
          ]
        }
      ]
    },
    {
      "cell_type": "markdown",
      "source": [
        "3. https://acmp.ru/index.asp?main=task&id_task=394"
      ],
      "metadata": {
        "id": "6VR2zujsdImR"
      }
    },
    {
      "cell_type": "code",
      "source": [
        "import math\n",
        "\n",
        "friends, oranges = (int(i) for i in input().split())\n",
        "common_divisor = math.gcd(friends, oranges)\n",
        "if oranges % friends == 0:\n",
        "  answer = 1\n",
        "else:\n",
        "  answer = int(friends // common_divisor)\n",
        "print(answer)"
      ],
      "metadata": {
        "colab": {
          "base_uri": "https://localhost:8080/"
        },
        "id": "KM7O7UqSdQAt",
        "outputId": "7db3140e-2655-4cc0-bfc7-7b60fab63d6f"
      },
      "execution_count": null,
      "outputs": [
        {
          "output_type": "stream",
          "name": "stdout",
          "text": [
            "8 4\n",
            "4\n",
            "2\n"
          ]
        }
      ]
    },
    {
      "cell_type": "markdown",
      "source": [
        "17.11"
      ],
      "metadata": {
        "id": "_JlCN1EEaIDx"
      }
    },
    {
      "cell_type": "markdown",
      "source": [
        "1. https://acmp.ru/index.asp?main=task&id_task=676"
      ],
      "metadata": {
        "id": "6Qm2E8hUaLJe"
      }
    },
    {
      "cell_type": "code",
      "source": [
        "matches = int(input())\n",
        "if matches % 3:\n",
        "  print(1)\n",
        "else:\n",
        "  print(2)"
      ],
      "metadata": {
        "colab": {
          "base_uri": "https://localhost:8080/"
        },
        "id": "DTunvBsoaNG2",
        "outputId": "bfee8245-e79e-4aac-cb61-df0ba6dbd0a5"
      },
      "execution_count": null,
      "outputs": [
        {
          "output_type": "stream",
          "name": "stdout",
          "text": [
            "3\n",
            "2\n"
          ]
        }
      ]
    },
    {
      "cell_type": "markdown",
      "source": [
        "2. https://acmp.ru/index.asp?main=task&id_task=291"
      ],
      "metadata": {
        "id": "8PmS8pe7aNYj"
      }
    },
    {
      "cell_type": "code",
      "source": [],
      "metadata": {
        "id": "iKvGE_hAaPs5"
      },
      "execution_count": null,
      "outputs": []
    },
    {
      "cell_type": "markdown",
      "source": [
        "3. https://acmp.ru/index.asp?main=task&id_task=70"
      ],
      "metadata": {
        "id": "rrjt0WTYaP9k"
      }
    },
    {
      "cell_type": "code",
      "source": [
        "import math\n",
        "word = input()\n",
        "degree = int(input())\n",
        "n = math.ceil(1023 / len(word))\n",
        "if degree > 0:\n",
        "  word *= min([degree, n])\n",
        "  print(word[:1023])\n",
        "else:\n",
        "  len_word = int(len(word) / abs(degree))\n",
        "  answer = word[:len_word]\n",
        "  if answer * abs(degree) == word:\n",
        "    print(answer)\n",
        "  else:\n",
        "    print(\"NO SOLUTION\")"
      ],
      "metadata": {
        "colab": {
          "base_uri": "https://localhost:8080/"
        },
        "id": "D8p1rW8oaTYk",
        "outputId": "732e7676-1851-4ac5-9414-28b74e442d39"
      },
      "execution_count": null,
      "outputs": [
        {
          "output_type": "stream",
          "name": "stdout",
          "text": [
            "asdasd\n",
            "-4\n",
            "NO SOLUTION\n"
          ]
        }
      ]
    },
    {
      "cell_type": "markdown",
      "source": [
        "19.11"
      ],
      "metadata": {
        "id": "yp0t0cldFyT2"
      }
    },
    {
      "cell_type": "markdown",
      "source": [
        "1. https://acmp.ru/index.asp?main=task&id_task=50"
      ],
      "metadata": {
        "id": "oO08yUtJJH-5"
      }
    },
    {
      "cell_type": "code",
      "source": [],
      "metadata": {
        "id": "Ue26_KtiJzMf"
      },
      "execution_count": null,
      "outputs": []
    },
    {
      "cell_type": "markdown",
      "source": [
        "2. https://acmp.ru/index.asp?main=task&id_task=922"
      ],
      "metadata": {
        "id": "IJF0cVpuGY7z"
      }
    },
    {
      "cell_type": "code",
      "source": [
        "t1, t2, s1, s2, s = (int(i) for i in input().split())\n",
        "if s1 == s2 and s1 < s:\n",
        "  print(\"NO\")\n",
        "elif s1 == s2 and s1 >= s:\n",
        "  print(s / (s1 / t1))\n",
        "else:\n",
        "  summ = 0\n",
        "  time = 0\n",
        "  while summ < s:\n",
        "    if summ + s1 >= s:\n",
        "      time += (s - summ) / (s1 / t1)\n",
        "      break\n",
        "    summ += s1 - s2\n",
        "    time += t1 + t2\n",
        "    ans = '%.2f' % time\n",
        "  print(time)"
      ],
      "metadata": {
        "colab": {
          "base_uri": "https://localhost:8080/"
        },
        "id": "gYDCYSacHB4l",
        "outputId": "338a6c48-ecd6-4792-f707-38a469000d1d"
      },
      "execution_count": null,
      "outputs": [
        {
          "name": "stdout",
          "output_type": "stream",
          "text": [
            "99 9 9 9 999\n"
          ]
        }
      ]
    },
    {
      "cell_type": "markdown",
      "source": [
        "3.https://acmp.ru/index.asp?main=task&id_task=7"
      ],
      "metadata": {
        "id": "elgbliBvF294"
      }
    },
    {
      "cell_type": "code",
      "source": [
        "print(max([int(i) for i in input().split()]))"
      ],
      "metadata": {
        "colab": {
          "base_uri": "https://localhost:8080/"
        },
        "id": "JKRwaAiXF4sT",
        "outputId": "d3967933-dd5d-4563-8aa3-1bc97a1ed3d9"
      },
      "execution_count": null,
      "outputs": [
        {
          "output_type": "stream",
          "name": "stdout",
          "text": [
            "5 7 2\n",
            "7\n"
          ]
        }
      ]
    },
    {
      "cell_type": "markdown",
      "source": [
        "26.11"
      ],
      "metadata": {
        "id": "fkBQO5O3swbO"
      }
    },
    {
      "cell_type": "markdown",
      "source": [
        "1. https://acmp.ru/index.asp?main=task&id_task=93"
      ],
      "metadata": {
        "id": "mxM-qjnKsx1j"
      }
    },
    {
      "cell_type": "code",
      "source": [],
      "metadata": {
        "id": "WdNkJaars42e"
      },
      "execution_count": null,
      "outputs": []
    },
    {
      "cell_type": "markdown",
      "source": [
        "2. https://acmp.ru/index.asp?main=task&id_task=44"
      ],
      "metadata": {
        "id": "FjORt4J1sztX"
      }
    },
    {
      "cell_type": "code",
      "source": [
        "arrows = input()\n",
        "answer = 0\n",
        "\n",
        "for i in range(len(arrows)):\n",
        "    if arrows[i:i+5] in ['>>-->' , '<--<<']:\n",
        "      answer += 1\n",
        "\n",
        "print(answer)"
      ],
      "metadata": {
        "colab": {
          "base_uri": "https://localhost:8080/"
        },
        "id": "EwZIbunvs5ku",
        "outputId": "9aafbe6c-9b60-4b0b-fcd4-3676e9fd0757"
      },
      "execution_count": null,
      "outputs": [
        {
          "output_type": "stream",
          "name": "stdout",
          "text": [
            "<<<<>>--><--<<--<<>>>--><<<<<\n",
            "4\n"
          ]
        }
      ]
    },
    {
      "cell_type": "markdown",
      "source": [
        "3. https://acmp.ru/index.asp?main=task&id_task=95"
      ],
      "metadata": {
        "id": "MJMOni6ys1zk"
      }
    },
    {
      "cell_type": "code",
      "source": [
        "age = input()\n",
        "k = 0\n",
        "while len(age) > 1:\n",
        "    age = str(sum(map(int, age)))\n",
        "    k += 1\n",
        "print(age, k)"
      ],
      "metadata": {
        "colab": {
          "base_uri": "https://localhost:8080/"
        },
        "id": "Mk-P1_GGs7DG",
        "outputId": "23290116-464f-429c-83d8-ad64444dec21"
      },
      "execution_count": null,
      "outputs": [
        {
          "output_type": "stream",
          "name": "stdout",
          "text": [
            "99\n",
            "9 2\n"
          ]
        }
      ]
    },
    {
      "cell_type": "markdown",
      "source": [
        "03.12"
      ],
      "metadata": {
        "id": "SvCjyaHfeUjE"
      }
    },
    {
      "cell_type": "markdown",
      "source": [
        "1. https://acmp.ru/index.asp?main=task&id_task=163"
      ],
      "metadata": {
        "id": "-9yCHQUmeXEg"
      }
    },
    {
      "cell_type": "code",
      "source": [
        "equation = input()\n",
        "if equation[1] == \"+\":\n",
        "  if equation[0] == \"x\":\n",
        "      answer = int(equation[4]) - int(equation[2])\n",
        "  elif equation[2] == \"x\":\n",
        "      answer = int(equation[4]) - int(equation[0])\n",
        "  elif equation[4] == \"x\":\n",
        "      answer = int(equation[0]) + int(equation[2])\n",
        "else:\n",
        "  if equation[0] == \"x\":\n",
        "      answer = int(equation[4]) + int(equation[2])\n",
        "  elif equation[2] == \"x\":\n",
        "      answer = int(equation[0]) - int(equation[4])\n",
        "  elif equation[4] == \"x\":\n",
        "      answer = int(equation[0]) - int(equation[2])\n",
        "print(answer)"
      ],
      "metadata": {
        "colab": {
          "base_uri": "https://localhost:8080/"
        },
        "id": "sl7EZBkAeYz4",
        "outputId": "234b2afa-fe41-4f1c-be16-946b81597ac4"
      },
      "execution_count": null,
      "outputs": [
        {
          "output_type": "stream",
          "name": "stdout",
          "text": [
            "x+5=7\n",
            "2\n"
          ]
        }
      ]
    },
    {
      "cell_type": "markdown",
      "source": [
        "2. https://acmp.ru/index.asp?main=task&id_task=164"
      ],
      "metadata": {
        "id": "MYLWPVQIeZFB"
      }
    },
    {
      "cell_type": "code",
      "source": [
        "ticket = str(input())\n",
        "for i in range(1,len(ticket)) :\n",
        "    first_half = sum(map(int,str(sum(map(int,ticket[:i])))))\n",
        "    second_half = sum(map(int,str(sum(map(int,ticket[i:])))))\n",
        "    if first_half==second_half:\n",
        "        print(\"YES\")\n",
        "        break\n",
        "if first_half - second_half :\n",
        "    print(\"NO\")"
      ],
      "metadata": {
        "colab": {
          "base_uri": "https://localhost:8080/"
        },
        "id": "PSO1jkSVea2K",
        "outputId": "0c8cbfc6-3d8b-465f-a8d3-cf8e0e30ccb8"
      },
      "execution_count": null,
      "outputs": [
        {
          "output_type": "stream",
          "name": "stdout",
          "text": [
            "00100\n",
            "NO\n"
          ]
        }
      ]
    },
    {
      "cell_type": "markdown",
      "source": [
        "3. https://acmp.ru/index.asp?main=task&id_task=49"
      ],
      "metadata": {
        "id": "FYJMvWhjebFM"
      }
    },
    {
      "cell_type": "code",
      "source": [
        "p1 = input()\n",
        "p2 = input()\n",
        "\n",
        "rules = {'?': set(range(10))}\n",
        "for i in range(10):\n",
        "    rules[str(i)] = {i}\n",
        "\n",
        "for id, letter in enumerate(['a', 'b', 'c', 'd', 'e', 'f', 'g']):\n",
        "    rules[letter] = set(range(id, id + 4))\n",
        "\n",
        "answer = 1\n",
        "for i in range(len(p1)):\n",
        "    set_1 = rules[p1[i]]\n",
        "    set_2 = rules[p2[i]]\n",
        "    answer = answer * len(set_1.intersection(set_2))\n",
        "\n",
        "print(answer)"
      ],
      "metadata": {
        "id": "DxPw8R9Mec-5"
      },
      "execution_count": null,
      "outputs": []
    },
    {
      "cell_type": "markdown",
      "source": [
        "08.12\n"
      ],
      "metadata": {
        "id": "-LVVk7NgZloC"
      }
    },
    {
      "cell_type": "markdown",
      "source": [
        "1. https://acmp.ru/index.asp?main=task&id_task=231"
      ],
      "metadata": {
        "id": "314I967KZnl7"
      }
    },
    {
      "cell_type": "code",
      "source": [
        "line = list(input())\n",
        "\n",
        "if len(line) == 1:\n",
        "  answer = line[0]\n",
        "else:\n",
        "  answer = \"\"\n",
        "  item = \"\"\n",
        "  j = 0\n",
        "  while j < len(line):\n",
        "    if line[j].isdigit():\n",
        "      item += line[j]\n",
        "    elif line[j].isalpha():\n",
        "      if item == \"\":\n",
        "          item_int = 1\n",
        "      else:\n",
        "          item_int = int(item)\n",
        "      item = \"\"\n",
        "\n",
        "      for k in range(item_int):\n",
        "          answer += line[j]\n",
        "    j += 1\n",
        "if len(answer) % 40 == 0:\n",
        "  add_string = 0\n",
        "else:\n",
        "  add_string = 1\n",
        "start = 0\n",
        "end = 40\n",
        "for i in range(len(answer) // 40 + add_string):\n",
        "  print(str(answer[start:end]))\n",
        "  start += 40\n",
        "  end += 40"
      ],
      "metadata": {
        "colab": {
          "base_uri": "https://localhost:8080/"
        },
        "id": "Gy_m33piZn_M",
        "outputId": "29e8155f-f649-48a7-e78a-25c3e5719615"
      },
      "execution_count": null,
      "outputs": [
        {
          "output_type": "stream",
          "name": "stdout",
          "text": [
            "22D7AC18FGD\n",
            "DDDDDDDDDDDDDDDDDDDDDDAAAAAAACFFFFFFFFFF\n",
            "FFFFFFFFGD\n"
          ]
        }
      ]
    },
    {
      "cell_type": "markdown",
      "source": [
        "2. https://acmp.ru/index.asp?main=task&id_task=270"
      ],
      "metadata": {
        "id": "DNqeAMlIZpMI"
      }
    },
    {
      "cell_type": "code",
      "source": [],
      "metadata": {
        "id": "GSkKG4O_Zpji"
      },
      "execution_count": null,
      "outputs": []
    },
    {
      "cell_type": "markdown",
      "source": [
        "3. https://acmp.ru/index.asp?main=task&id_task=283"
      ],
      "metadata": {
        "id": "-F-a0YLqZp2W"
      }
    },
    {
      "cell_type": "code",
      "source": [
        "s = input()\n",
        "lis = [i for i in range(len(s)) if s[i].isupper()] + [len(s)]\n",
        "# print(lis)\n",
        "lens = set([lis[i + 1] - lis[i] for i in range(len(lis) - 1)])\n",
        "# print(lens)\n",
        "if lens and lens <= set([2, 3, 4]) and s[0].isupper():\n",
        "  print('Yes')\n",
        "else:\n",
        "  print('No')"
      ],
      "metadata": {
        "id": "0ynst4YRZqVX"
      },
      "execution_count": null,
      "outputs": []
    }
  ]
}